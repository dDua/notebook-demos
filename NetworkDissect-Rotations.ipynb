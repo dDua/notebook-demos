{
 "cells": [
  {
   "cell_type": "code",
   "execution_count": 78,
   "metadata": {},
   "outputs": [],
   "source": [
    "# Code snippets from original repo https://github.com/CSAILVision/NetDissect\n",
    "# doesn't include trick for bigger matrices to account for numerical stability.\n",
    "#please refer to original repo for that\n",
    "import numpy\n",
    "import scipy.linalg\n",
    "import matplotlib.pyplot as plt\n",
    "dims=2\n",
    "powers=numpy.arange(0.1, 1.0 + 1e-15, 0.1)"
   ]
  },
  {
   "cell_type": "code",
   "execution_count": 79,
   "metadata": {},
   "outputs": [],
   "source": [
    "#Gram-Schmidt decomposition\n",
    "NR=numpy.random.normal(size=(dims,dims))\n",
    "Q,R = numpy.linalg.qr(NR)"
   ]
  },
  {
   "cell_type": "code",
   "execution_count": 80,
   "metadata": {},
   "outputs": [],
   "source": [
    "# make diagonals of R positive and make it lower-right\n",
    "D=numpy.diagonal(R)\n",
    "L = numpy.diagflat(D / abs(D))\n",
    "result = numpy.dot(Q, L)\n",
    "if numpy.linalg.det(result) < 0:\n",
    "  result[0]=-result[0]\n",
    "\n",
    "RR=result"
   ]
  },
  {
   "cell_type": "code",
   "execution_count": 81,
   "metadata": {},
   "outputs": [],
   "source": [
    "T, W = scipy.linalg.schur(RR, output='real')\n",
    "# get rotation angle from the diagonal\n",
    "RA = numpy.arccos(numpy.clip(numpy.diag(T), -1, 1))[0:dims:2]"
   ]
  },
  {
   "cell_type": "code",
   "execution_count": 82,
   "metadata": {},
   "outputs": [],
   "source": [
    "#sort the colums\n",
    "biggest_first = numpy.argsort(-numpy.amax(T, axis=1))\n",
    "cols_seen = set()\n",
    "permutation = numpy.zeros((dims, dims))\n",
    "for row in biggest_first:\n",
    "    biggest_cols = numpy.argsort(-T[row])\n",
    "    for col in biggest_cols:\n",
    "        if col not in cols_seen:\n",
    "            permutation[col,row] = 1\n",
    "            cols_seen.add(col)\n",
    "            break"
   ]
  },
  {
   "cell_type": "code",
   "execution_count": 83,
   "metadata": {},
   "outputs": [
    {
     "name": "stdout",
     "output_type": "stream",
     "text": [
      "[[0. 1.]\n",
      " [1. 0.]]\n",
      "[[ 0.70710678 -0.70710678]\n",
      " [ 0.70710678  0.70710678]]\n",
      "[[-0.44602961  0.8950182 ]\n",
      " [-0.8950182  -0.44602961]]\n",
      "[2.03312064]\n"
     ]
    }
   ],
   "source": [
    "print(permutation)\n",
    "print(W)\n",
    "print(T)\n",
    "print(RA)"
   ]
  },
  {
   "cell_type": "code",
   "execution_count": 85,
   "metadata": {},
   "outputs": [],
   "source": [
    "results = []\n",
    "for p in powers:\n",
    "  A = [a * p for a in RA]\n",
    "  B = [numpy.cos([[a, a + numpy.pi/2], [a - numpy.pi/2, a]]) for a in A]\n",
    "  results.append(numpy.dot(permutation,\n",
    "            numpy.dot(numpy.dot(W, B[0]), W.transpose())))"
   ]
  },
  {
   "cell_type": "code",
   "execution_count": 87,
   "metadata": {},
   "outputs": [
    {
     "data": {
      "image/png": "[encoded data removed]",
      "text/plain": [
       "<matplotlib.figure.Figure at 0x17d63e5d588>"
      ]
     },
     "metadata": {},
     "output_type": "display_data"
    }
   ],
   "source": [
    "f_x = [0.8,0.2]\n",
    "result_mat = numpy.zeros((len(powers),dims))\n",
    "for i, r in enumerate(results):\n",
    "  result_mat[i]=numpy.dot(r,f_x)\n",
    "\n",
    "plt.plot(f_x[0],f_x[1], marker='o')\n",
    "plt.plot(result_mat[:,0],result_mat[:,1], marker='X')\n",
    "plt.show()"
   ]
  },
  {
   "cell_type": "code",
   "execution_count": null,
   "metadata": {},
   "outputs": [],
   "source": []
  }
 ],
 "metadata": {
  "kernelspec": {
   "display_name": "Python 3",
   "language": "python",
   "name": "python3"
  },
  "language_info": {
   "codemirror_mode": {
    "name": "ipython",
    "version": 3
   },
   "file_extension": ".py",
   "mimetype": "text/x-python",
   "name": "python",
   "nbconvert_exporter": "python",
   "pygments_lexer": "ipython3",
   "version": "3.6.1"
  }
 },
 "nbformat": 4,
 "nbformat_minor": 2
}
